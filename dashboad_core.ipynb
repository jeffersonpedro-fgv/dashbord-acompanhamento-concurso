{
 "cells": [
  {
   "cell_type": "markdown",
   "metadata": {},
   "source": [
    "## Importações"
   ]
  },
  {
   "cell_type": "code",
   "execution_count": 2,
   "metadata": {},
   "outputs": [],
   "source": [
    "#!pip install matplotlib\n",
    "# !pip install mysql-connector-python\n",
    "# !pip install seaborn \n",
    "# !pip install plotly==5.23.0"
   ]
  },
  {
   "cell_type": "code",
   "execution_count": 3,
   "metadata": {},
   "outputs": [],
   "source": [
    "import mysql.connector\n",
    "import matplotlib.pyplot as plt\n",
    "import plotly.graph_objects as go\n",
    "import pandas as pd\n",
    "import numpy as np"
   ]
  },
  {
   "cell_type": "markdown",
   "metadata": {},
   "source": [
    "## Conexão com o banco "
   ]
  },
  {
   "cell_type": "code",
   "execution_count": 4,
   "metadata": {},
   "outputs": [],
   "source": [
    "conexao = mysql.connector.connect(\n",
    "    host= 'ALH001-DEV',\n",
    "    user= 'fgv',\n",
    "    password= 'rY44ob7N',\n",
    "    database= 'apresentacao2024_recursos_dis',\n",
    "    charset='utf8'\n",
    ")\n",
    "\n",
    "cursor = conexao.cursor()"
   ]
  },
  {
   "cell_type": "markdown",
   "metadata": {},
   "source": [
    "## Extração de Dados"
   ]
  },
  {
   "cell_type": "markdown",
   "metadata": {},
   "source": [
    "### 1- Total de Candidatos"
   ]
  },
  {
   "cell_type": "code",
   "execution_count": 5,
   "metadata": {},
   "outputs": [
    {
     "data": {
      "text/html": [
       "<div>\n",
       "<style scoped>\n",
       "    .dataframe tbody tr th:only-of-type {\n",
       "        vertical-align: middle;\n",
       "    }\n",
       "\n",
       "    .dataframe tbody tr th {\n",
       "        vertical-align: top;\n",
       "    }\n",
       "\n",
       "    .dataframe thead th {\n",
       "        text-align: right;\n",
       "    }\n",
       "</style>\n",
       "<table border=\"1\" class=\"dataframe\">\n",
       "  <thead>\n",
       "    <tr style=\"text-align: right;\">\n",
       "      <th></th>\n",
       "      <th>Total Candidatos</th>\n",
       "    </tr>\n",
       "  </thead>\n",
       "  <tbody>\n",
       "    <tr>\n",
       "      <th>0</th>\n",
       "      <td>563</td>\n",
       "    </tr>\n",
       "  </tbody>\n",
       "</table>\n",
       "</div>"
      ],
      "text/plain": [
       "   Total Candidatos\n",
       "0               563"
      ]
     },
     "metadata": {},
     "output_type": "display_data"
    }
   ],
   "source": [
    "comando = \"SELECT COUNT(codigo) as 'Total Candidatos' FROM cadastro\"\n",
    "cursor.execute(comando)\n",
    "totalCandidatos = cursor.fetchall()\n",
    "\n",
    "colunasTotalCand = [desc[0] for desc in cursor.description]\n",
    "totalCandidatos = pd.DataFrame(totalCandidatos, columns=colunasTotalCand)\n",
    "\n",
    "display(totalCandidatos)"
   ]
  },
  {
   "cell_type": "markdown",
   "metadata": {},
   "source": [
    "### 2- Total de Recursos"
   ]
  },
  {
   "cell_type": "code",
   "execution_count": 6,
   "metadata": {},
   "outputs": [
    {
     "data": {
      "text/html": [
       "<div>\n",
       "<style scoped>\n",
       "    .dataframe tbody tr th:only-of-type {\n",
       "        vertical-align: middle;\n",
       "    }\n",
       "\n",
       "    .dataframe tbody tr th {\n",
       "        vertical-align: top;\n",
       "    }\n",
       "\n",
       "    .dataframe thead th {\n",
       "        text-align: right;\n",
       "    }\n",
       "</style>\n",
       "<table border=\"1\" class=\"dataframe\">\n",
       "  <thead>\n",
       "    <tr style=\"text-align: right;\">\n",
       "      <th></th>\n",
       "      <th>Total Recursos</th>\n",
       "    </tr>\n",
       "  </thead>\n",
       "  <tbody>\n",
       "    <tr>\n",
       "      <th>0</th>\n",
       "      <td>319</td>\n",
       "    </tr>\n",
       "  </tbody>\n",
       "</table>\n",
       "</div>"
      ],
      "text/plain": [
       "   Total Recursos\n",
       "0             319"
      ]
     },
     "metadata": {},
     "output_type": "display_data"
    }
   ],
   "source": [
    "comando = \"SELECT COUNT(protocolo) as 'Total Recursos' FROM recursos\"\n",
    "cursor.execute(comando)\n",
    "totalRecursos = cursor.fetchall()\n",
    "\n",
    "colunasTotalRec = [desc[0] for desc in cursor.description]\n",
    "totalRecursos = pd.DataFrame(totalRecursos, columns=colunasTotalRec)\n",
    "\n",
    "display(totalRecursos)"
   ]
  },
  {
   "cell_type": "markdown",
   "metadata": {},
   "source": [
    "### 3- Total de Recursos por Cargo(Disciplina)"
   ]
  },
  {
   "cell_type": "markdown",
   "metadata": {},
   "source": [
    "##### 3.1) Todos os cargos "
   ]
  },
  {
   "cell_type": "code",
   "execution_count": 7,
   "metadata": {},
   "outputs": [
    {
     "data": {
      "text/html": [
       "<div>\n",
       "<style scoped>\n",
       "    .dataframe tbody tr th:only-of-type {\n",
       "        vertical-align: middle;\n",
       "    }\n",
       "\n",
       "    .dataframe tbody tr th {\n",
       "        vertical-align: top;\n",
       "    }\n",
       "\n",
       "    .dataframe thead th {\n",
       "        text-align: right;\n",
       "    }\n",
       "</style>\n",
       "<table border=\"1\" class=\"dataframe\">\n",
       "  <thead>\n",
       "    <tr style=\"text-align: right;\">\n",
       "      <th></th>\n",
       "      <th>Carreira</th>\n",
       "    </tr>\n",
       "  </thead>\n",
       "  <tbody>\n",
       "    <tr>\n",
       "      <th>0</th>\n",
       "      <td>Analista Administrativo - Administrativa</td>\n",
       "    </tr>\n",
       "    <tr>\n",
       "      <th>1</th>\n",
       "      <td>Analista Administrativo - Contabilidade</td>\n",
       "    </tr>\n",
       "    <tr>\n",
       "      <th>2</th>\n",
       "      <td>Analista Administrativo - Tecnologia de Inform...</td>\n",
       "    </tr>\n",
       "    <tr>\n",
       "      <th>3</th>\n",
       "      <td>Analista em Infraestrutura de Transportes - En...</td>\n",
       "    </tr>\n",
       "  </tbody>\n",
       "</table>\n",
       "</div>"
      ],
      "text/plain": [
       "                                            Carreira\n",
       "0           Analista Administrativo - Administrativa\n",
       "1            Analista Administrativo - Contabilidade\n",
       "2  Analista Administrativo - Tecnologia de Inform...\n",
       "3  Analista em Infraestrutura de Transportes - En..."
      ]
     },
     "metadata": {},
     "output_type": "display_data"
    },
    {
     "name": "stdout",
     "output_type": "stream",
     "text": [
      "Total de Carreiras: 4\n",
      "Nome das Carreiras: ['Analista Administrativo - Administrativa', 'Analista Administrativo - Contabilidade', 'Analista Administrativo - Tecnologia de Informação', 'Analista em Infraestrutura de Transportes - Engenharia Civil/ Engenharia de Transportes']\n"
     ]
    }
   ],
   "source": [
    "comando = \"SELECT CARR as Carreira FROM carreira\"\n",
    "cursor.execute(comando)\n",
    "totalCarreira = cursor.fetchall()\n",
    "\n",
    "colunasTotalCarr = [desc[0] for desc in cursor.description]\n",
    "totalCarreira = pd.DataFrame(totalCarreira, columns=colunasTotalCarr)\n",
    "\n",
    "num_carreiras = totalCarreira.shape[0] #Total de registros\n",
    "nomeCarreiras = totalCarreira['Carreira'].tolist() #Lista com o conteudo dos registros\n",
    "\n",
    "display(totalCarreira)\n",
    "print(f'Total de Carreiras: {num_carreiras}')\n",
    "print(f'Nome das Carreiras: {nomeCarreiras}')"
   ]
  },
  {
   "cell_type": "markdown",
   "metadata": {},
   "source": [
    "##### 3.2) Total de Recurso por cargo e disciplina"
   ]
  },
  {
   "cell_type": "code",
   "execution_count": 8,
   "metadata": {},
   "outputs": [
    {
     "data": {
      "text/html": [
       "<div>\n",
       "<style scoped>\n",
       "    .dataframe tbody tr th:only-of-type {\n",
       "        vertical-align: middle;\n",
       "    }\n",
       "\n",
       "    .dataframe tbody tr th {\n",
       "        vertical-align: top;\n",
       "    }\n",
       "\n",
       "    .dataframe thead th {\n",
       "        text-align: right;\n",
       "    }\n",
       "</style>\n",
       "<table border=\"1\" class=\"dataframe\">\n",
       "  <thead>\n",
       "    <tr style=\"text-align: right;\">\n",
       "      <th></th>\n",
       "      <th>Questão</th>\n",
       "      <th>Sigla</th>\n",
       "      <th>Cargo</th>\n",
       "      <th>Questão</th>\n",
       "      <th>Total Recursos</th>\n",
       "    </tr>\n",
       "  </thead>\n",
       "  <tbody>\n",
       "    <tr>\n",
       "      <th>0</th>\n",
       "      <td>A01</td>\n",
       "      <td>A</td>\n",
       "      <td>Analista Administrativo - Administrativa</td>\n",
       "      <td>Questão 01</td>\n",
       "      <td>15</td>\n",
       "    </tr>\n",
       "    <tr>\n",
       "      <th>1</th>\n",
       "      <td>A02</td>\n",
       "      <td>A</td>\n",
       "      <td>Analista Administrativo - Administrativa</td>\n",
       "      <td>Questão 02</td>\n",
       "      <td>33</td>\n",
       "    </tr>\n",
       "    <tr>\n",
       "      <th>2</th>\n",
       "      <td>A03</td>\n",
       "      <td>A</td>\n",
       "      <td>Analista Administrativo - Administrativa</td>\n",
       "      <td>Redação</td>\n",
       "      <td>41</td>\n",
       "    </tr>\n",
       "    <tr>\n",
       "      <th>3</th>\n",
       "      <td>B01</td>\n",
       "      <td>B</td>\n",
       "      <td>Analista Administrativo - Contabilidade</td>\n",
       "      <td>Questão 01</td>\n",
       "      <td>7</td>\n",
       "    </tr>\n",
       "    <tr>\n",
       "      <th>4</th>\n",
       "      <td>B02</td>\n",
       "      <td>B</td>\n",
       "      <td>Analista Administrativo - Contabilidade</td>\n",
       "      <td>Questão 02</td>\n",
       "      <td>9</td>\n",
       "    </tr>\n",
       "    <tr>\n",
       "      <th>5</th>\n",
       "      <td>B03</td>\n",
       "      <td>B</td>\n",
       "      <td>Analista Administrativo - Contabilidade</td>\n",
       "      <td>Redação</td>\n",
       "      <td>9</td>\n",
       "    </tr>\n",
       "    <tr>\n",
       "      <th>6</th>\n",
       "      <td>C01</td>\n",
       "      <td>C</td>\n",
       "      <td>Analista Administrativo - Tecnologia de Inform...</td>\n",
       "      <td>Questão 01</td>\n",
       "      <td>4</td>\n",
       "    </tr>\n",
       "    <tr>\n",
       "      <th>7</th>\n",
       "      <td>C02</td>\n",
       "      <td>C</td>\n",
       "      <td>Analista Administrativo - Tecnologia de Inform...</td>\n",
       "      <td>Questão 02</td>\n",
       "      <td>3</td>\n",
       "    </tr>\n",
       "    <tr>\n",
       "      <th>8</th>\n",
       "      <td>C03</td>\n",
       "      <td>C</td>\n",
       "      <td>Analista Administrativo - Tecnologia de Inform...</td>\n",
       "      <td>Redação</td>\n",
       "      <td>2</td>\n",
       "    </tr>\n",
       "    <tr>\n",
       "      <th>9</th>\n",
       "      <td>D01</td>\n",
       "      <td>D</td>\n",
       "      <td>Analista em Infraestrutura de Transportes - En...</td>\n",
       "      <td>Questão 01</td>\n",
       "      <td>85</td>\n",
       "    </tr>\n",
       "    <tr>\n",
       "      <th>10</th>\n",
       "      <td>D02</td>\n",
       "      <td>D</td>\n",
       "      <td>Analista em Infraestrutura de Transportes - En...</td>\n",
       "      <td>Questão 02</td>\n",
       "      <td>70</td>\n",
       "    </tr>\n",
       "    <tr>\n",
       "      <th>11</th>\n",
       "      <td>D03</td>\n",
       "      <td>D</td>\n",
       "      <td>Analista em Infraestrutura de Transportes - En...</td>\n",
       "      <td>Redação</td>\n",
       "      <td>41</td>\n",
       "    </tr>\n",
       "  </tbody>\n",
       "</table>\n",
       "</div>"
      ],
      "text/plain": [
       "   Questão Sigla                                              Cargo  \\\n",
       "0      A01     A           Analista Administrativo - Administrativa   \n",
       "1      A02     A           Analista Administrativo - Administrativa   \n",
       "2      A03     A           Analista Administrativo - Administrativa   \n",
       "3      B01     B            Analista Administrativo - Contabilidade   \n",
       "4      B02     B            Analista Administrativo - Contabilidade   \n",
       "5      B03     B            Analista Administrativo - Contabilidade   \n",
       "6      C01     C  Analista Administrativo - Tecnologia de Inform...   \n",
       "7      C02     C  Analista Administrativo - Tecnologia de Inform...   \n",
       "8      C03     C  Analista Administrativo - Tecnologia de Inform...   \n",
       "9      D01     D  Analista em Infraestrutura de Transportes - En...   \n",
       "10     D02     D  Analista em Infraestrutura de Transportes - En...   \n",
       "11     D03     D  Analista em Infraestrutura de Transportes - En...   \n",
       "\n",
       "       Questão  Total Recursos  \n",
       "0   Questão 01              15  \n",
       "1   Questão 02              33  \n",
       "2      Redação              41  \n",
       "3   Questão 01               7  \n",
       "4   Questão 02               9  \n",
       "5      Redação               9  \n",
       "6   Questão 01               4  \n",
       "7   Questão 02               3  \n",
       "8      Redação               2  \n",
       "9   Questão 01              85  \n",
       "10  Questão 02              70  \n",
       "11     Redação              41  "
      ]
     },
     "metadata": {},
     "output_type": "display_data"
    },
    {
     "data": {
      "text/html": [
       "<div>\n",
       "<style scoped>\n",
       "    .dataframe tbody tr th:only-of-type {\n",
       "        vertical-align: middle;\n",
       "    }\n",
       "\n",
       "    .dataframe tbody tr th {\n",
       "        vertical-align: top;\n",
       "    }\n",
       "\n",
       "    .dataframe thead th {\n",
       "        text-align: right;\n",
       "    }\n",
       "</style>\n",
       "<table border=\"1\" class=\"dataframe\">\n",
       "  <thead>\n",
       "    <tr style=\"text-align: right;\">\n",
       "      <th></th>\n",
       "      <th>Cargo</th>\n",
       "      <th>Total Recursos</th>\n",
       "    </tr>\n",
       "  </thead>\n",
       "  <tbody>\n",
       "    <tr>\n",
       "      <th>0</th>\n",
       "      <td>Analista Administrativo - Administrativa</td>\n",
       "      <td>89</td>\n",
       "    </tr>\n",
       "    <tr>\n",
       "      <th>1</th>\n",
       "      <td>Analista Administrativo - Contabilidade</td>\n",
       "      <td>25</td>\n",
       "    </tr>\n",
       "    <tr>\n",
       "      <th>2</th>\n",
       "      <td>Analista Administrativo - Tecnologia de Inform...</td>\n",
       "      <td>9</td>\n",
       "    </tr>\n",
       "    <tr>\n",
       "      <th>3</th>\n",
       "      <td>Analista em Infraestrutura de Transportes - En...</td>\n",
       "      <td>196</td>\n",
       "    </tr>\n",
       "  </tbody>\n",
       "</table>\n",
       "</div>"
      ],
      "text/plain": [
       "                                               Cargo  Total Recursos\n",
       "0           Analista Administrativo - Administrativa              89\n",
       "1            Analista Administrativo - Contabilidade              25\n",
       "2  Analista Administrativo - Tecnologia de Inform...               9\n",
       "3  Analista em Infraestrutura de Transportes - En...             196"
      ]
     },
     "metadata": {},
     "output_type": "display_data"
    }
   ],
   "source": [
    "comando = \"SELECT rec.questao as Questão, rec.sigla as Sigla, car.CARR as 'Cargo', q.QUESTAO_NOME as 'Questão', COUNT(rec.protocolo) as 'Total Recursos' FROM apresentacao2024_recursos_dis.recursos as rec INNER JOIN apresentacao2024_recursos_dis.questao as q ON rec.questao = q.IDQUESTAO INNER JOIN apresentacao2024_recursos_dis.carreira as car ON rec.sigla = car.SIGLA GROUP BY rec.questao;\"\n",
    "cursor.execute(comando)\n",
    "totalRecusosCargo = cursor.fetchall()\n",
    "\n",
    "colunasTotalRecCargo = [desc[0] for desc in cursor.description]\n",
    "totalRecusosCargo = pd.DataFrame(totalRecusosCargo, columns=colunasTotalRecCargo)\n",
    "\n",
    "somaRecCarr = pd.DataFrame(totalRecusosCargo.groupby('Cargo')['Total Recursos'].sum().reset_index()) #Soma de recurso por cargo\n",
    "\n",
    "display(totalRecusosCargo)\n",
    "display(somaRecCarr)"
   ]
  },
  {
   "cell_type": "markdown",
   "metadata": {},
   "source": [
    "### 4- Total de Acesso ao Sistema"
   ]
  },
  {
   "cell_type": "code",
   "execution_count": 9,
   "metadata": {},
   "outputs": [
    {
     "data": {
      "text/html": [
       "<div>\n",
       "<style scoped>\n",
       "    .dataframe tbody tr th:only-of-type {\n",
       "        vertical-align: middle;\n",
       "    }\n",
       "\n",
       "    .dataframe tbody tr th {\n",
       "        vertical-align: top;\n",
       "    }\n",
       "\n",
       "    .dataframe thead th {\n",
       "        text-align: right;\n",
       "    }\n",
       "</style>\n",
       "<table border=\"1\" class=\"dataframe\">\n",
       "  <thead>\n",
       "    <tr style=\"text-align: right;\">\n",
       "      <th></th>\n",
       "      <th>Data</th>\n",
       "      <th>Total de Acessos</th>\n",
       "    </tr>\n",
       "  </thead>\n",
       "  <tbody>\n",
       "    <tr>\n",
       "      <th>0</th>\n",
       "      <td>2024-05-10</td>\n",
       "      <td>72</td>\n",
       "    </tr>\n",
       "    <tr>\n",
       "      <th>1</th>\n",
       "      <td>2024-05-11</td>\n",
       "      <td>19</td>\n",
       "    </tr>\n",
       "    <tr>\n",
       "      <th>2</th>\n",
       "      <td>2024-05-12</td>\n",
       "      <td>24</td>\n",
       "    </tr>\n",
       "    <tr>\n",
       "      <th>3</th>\n",
       "      <td>2024-05-13</td>\n",
       "      <td>119</td>\n",
       "    </tr>\n",
       "    <tr>\n",
       "      <th>4</th>\n",
       "      <td>2024-05-14</td>\n",
       "      <td>85</td>\n",
       "    </tr>\n",
       "  </tbody>\n",
       "</table>\n",
       "</div>"
      ],
      "text/plain": [
       "         Data  Total de Acessos\n",
       "0  2024-05-10                72\n",
       "1  2024-05-11                19\n",
       "2  2024-05-12                24\n",
       "3  2024-05-13               119\n",
       "4  2024-05-14                85"
      ]
     },
     "metadata": {},
     "output_type": "display_data"
    }
   ],
   "source": [
    "comando = \"SELECT DATE(dtInclusao) as Data, COUNT(*) as 'Total de Acessos' FROM recursos GROUP BY DATE(dtInclusao) ORDER BY DATE(dtInclusao);\"\n",
    "cursor.execute(comando)\n",
    "resultado = cursor.fetchall()\n",
    "\n",
    "colunasTotalAcesso = [desc[0] for desc in cursor.description]\n",
    "acessoSystem = pd.DataFrame(resultado, columns=colunasTotalAcesso)\n",
    "\n",
    "# somaAcesso = pd.DataFrame(acessoSystem.groupby('Data')['Total de Acessos'].sum().reset_index()) #Soma de recurso por cargo\n",
    "\n",
    "display(acessoSystem)\n",
    "# display(somaAcesso)"
   ]
  },
  {
   "cell_type": "markdown",
   "metadata": {},
   "source": [
    "### 5- Total de Recursos Respondidos por Cargo"
   ]
  },
  {
   "cell_type": "markdown",
   "metadata": {},
   "source": [
    "#### 5.1) Total de respostas por cargo"
   ]
  },
  {
   "cell_type": "code",
   "execution_count": 10,
   "metadata": {},
   "outputs": [
    {
     "data": {
      "text/html": [
       "<div>\n",
       "<style scoped>\n",
       "    .dataframe tbody tr th:only-of-type {\n",
       "        vertical-align: middle;\n",
       "    }\n",
       "\n",
       "    .dataframe tbody tr th {\n",
       "        vertical-align: top;\n",
       "    }\n",
       "\n",
       "    .dataframe thead th {\n",
       "        text-align: right;\n",
       "    }\n",
       "</style>\n",
       "<table border=\"1\" class=\"dataframe\">\n",
       "  <thead>\n",
       "    <tr style=\"text-align: right;\">\n",
       "      <th></th>\n",
       "      <th>Sigla</th>\n",
       "      <th>Cargo</th>\n",
       "      <th>Total Recursos</th>\n",
       "      <th>Total Respostas</th>\n",
       "    </tr>\n",
       "  </thead>\n",
       "  <tbody>\n",
       "    <tr>\n",
       "      <th>0</th>\n",
       "      <td>A</td>\n",
       "      <td>Analista Administrativo - Administrativa</td>\n",
       "      <td>89</td>\n",
       "      <td>83</td>\n",
       "    </tr>\n",
       "    <tr>\n",
       "      <th>1</th>\n",
       "      <td>B</td>\n",
       "      <td>Analista Administrativo - Contabilidade</td>\n",
       "      <td>25</td>\n",
       "      <td>22</td>\n",
       "    </tr>\n",
       "    <tr>\n",
       "      <th>2</th>\n",
       "      <td>C</td>\n",
       "      <td>Analista Administrativo - Tecnologia de Inform...</td>\n",
       "      <td>9</td>\n",
       "      <td>9</td>\n",
       "    </tr>\n",
       "    <tr>\n",
       "      <th>3</th>\n",
       "      <td>D</td>\n",
       "      <td>Analista em Infraestrutura de Transportes - En...</td>\n",
       "      <td>196</td>\n",
       "      <td>188</td>\n",
       "    </tr>\n",
       "  </tbody>\n",
       "</table>\n",
       "</div>"
      ],
      "text/plain": [
       "  Sigla                                              Cargo  Total Recursos  \\\n",
       "0     A           Analista Administrativo - Administrativa              89   \n",
       "1     B            Analista Administrativo - Contabilidade              25   \n",
       "2     C  Analista Administrativo - Tecnologia de Inform...               9   \n",
       "3     D  Analista em Infraestrutura de Transportes - En...             196   \n",
       "\n",
       "   Total Respostas  \n",
       "0               83  \n",
       "1               22  \n",
       "2                9  \n",
       "3              188  "
      ]
     },
     "metadata": {},
     "output_type": "display_data"
    }
   ],
   "source": [
    "comando = \"SELECT rec.sigla as Sigla, car.CARR as 'Cargo', COUNT(rec.protocolo) as 'Total Recursos',  COUNT(CASE WHEN rec.respondido = 1 THEN rec.respondido END) AS 'Total Respostas' FROM apresentacao2024_recursos_dis.recursos as rec INNER JOIN apresentacao2024_recursos_dis.questao as q ON rec.questao = q.IDQUESTAO INNER JOIN apresentacao2024_recursos_dis.carreira as car ON rec.sigla = car.SIGLA GROUP BY car.CARR;\"\n",
    "\n",
    "cursor.execute(comando)\n",
    "totalRespostaCargo = cursor.fetchall()\n",
    "\n",
    "colunasTotalAcesso = [desc[0] for desc in cursor.description]\n",
    "totalRespostaCargo = pd.DataFrame(totalRespostaCargo, columns=colunasTotalAcesso)\n",
    "\n",
    "# somaRespCarr = pd.DataFrame(totalRespostaCargo.groupby('Cargo')['Total Respostas'].sum().reset_index()) #Soma de recurso por cargo\n",
    "\n",
    "display(totalRespostaCargo)\n",
    "#display(somaRespCarr)"
   ]
  },
  {
   "cell_type": "markdown",
   "metadata": {},
   "source": [
    "#### 5.2) Total de questões por cargo"
   ]
  },
  {
   "cell_type": "code",
   "execution_count": 11,
   "metadata": {},
   "outputs": [
    {
     "data": {
      "text/html": [
       "<div>\n",
       "<style scoped>\n",
       "    .dataframe tbody tr th:only-of-type {\n",
       "        vertical-align: middle;\n",
       "    }\n",
       "\n",
       "    .dataframe tbody tr th {\n",
       "        vertical-align: top;\n",
       "    }\n",
       "\n",
       "    .dataframe thead th {\n",
       "        text-align: right;\n",
       "    }\n",
       "</style>\n",
       "<table border=\"1\" class=\"dataframe\">\n",
       "  <thead>\n",
       "    <tr style=\"text-align: right;\">\n",
       "      <th></th>\n",
       "      <th>Cargo</th>\n",
       "      <th>Sigla</th>\n",
       "      <th>Total Questões</th>\n",
       "    </tr>\n",
       "  </thead>\n",
       "  <tbody>\n",
       "    <tr>\n",
       "      <th>0</th>\n",
       "      <td>Analista Administrativo - Administrativa</td>\n",
       "      <td>A</td>\n",
       "      <td>3</td>\n",
       "    </tr>\n",
       "    <tr>\n",
       "      <th>1</th>\n",
       "      <td>Analista Administrativo - Contabilidade</td>\n",
       "      <td>B</td>\n",
       "      <td>3</td>\n",
       "    </tr>\n",
       "    <tr>\n",
       "      <th>2</th>\n",
       "      <td>Analista Administrativo - Tecnologia de Inform...</td>\n",
       "      <td>C</td>\n",
       "      <td>3</td>\n",
       "    </tr>\n",
       "    <tr>\n",
       "      <th>3</th>\n",
       "      <td>Analista em Infraestrutura de Transportes - En...</td>\n",
       "      <td>D</td>\n",
       "      <td>3</td>\n",
       "    </tr>\n",
       "  </tbody>\n",
       "</table>\n",
       "</div>"
      ],
      "text/plain": [
       "                                               Cargo Sigla  Total Questões\n",
       "0           Analista Administrativo - Administrativa     A               3\n",
       "1            Analista Administrativo - Contabilidade     B               3\n",
       "2  Analista Administrativo - Tecnologia de Inform...     C               3\n",
       "3  Analista em Infraestrutura de Transportes - En...     D               3"
      ]
     },
     "metadata": {},
     "output_type": "display_data"
    },
    {
     "data": {
      "text/html": [
       "<div>\n",
       "<style scoped>\n",
       "    .dataframe tbody tr th:only-of-type {\n",
       "        vertical-align: middle;\n",
       "    }\n",
       "\n",
       "    .dataframe tbody tr th {\n",
       "        vertical-align: top;\n",
       "    }\n",
       "\n",
       "    .dataframe thead th {\n",
       "        text-align: right;\n",
       "    }\n",
       "</style>\n",
       "<table border=\"1\" class=\"dataframe\">\n",
       "  <thead>\n",
       "    <tr style=\"text-align: right;\">\n",
       "      <th></th>\n",
       "      <th>Cargo</th>\n",
       "      <th>Total Questões</th>\n",
       "    </tr>\n",
       "  </thead>\n",
       "  <tbody>\n",
       "    <tr>\n",
       "      <th>0</th>\n",
       "      <td>Analista Administrativo - Administrativa</td>\n",
       "      <td>3</td>\n",
       "    </tr>\n",
       "    <tr>\n",
       "      <th>1</th>\n",
       "      <td>Analista Administrativo - Contabilidade</td>\n",
       "      <td>3</td>\n",
       "    </tr>\n",
       "    <tr>\n",
       "      <th>2</th>\n",
       "      <td>Analista Administrativo - Tecnologia de Inform...</td>\n",
       "      <td>3</td>\n",
       "    </tr>\n",
       "    <tr>\n",
       "      <th>3</th>\n",
       "      <td>Analista em Infraestrutura de Transportes - En...</td>\n",
       "      <td>3</td>\n",
       "    </tr>\n",
       "  </tbody>\n",
       "</table>\n",
       "</div>"
      ],
      "text/plain": [
       "                                               Cargo  Total Questões\n",
       "0           Analista Administrativo - Administrativa               3\n",
       "1            Analista Administrativo - Contabilidade               3\n",
       "2  Analista Administrativo - Tecnologia de Inform...               3\n",
       "3  Analista em Infraestrutura de Transportes - En...               3"
      ]
     },
     "metadata": {},
     "output_type": "display_data"
    }
   ],
   "source": [
    "comando = \"SELECT carr.CARR AS 'Cargo', q.SIGLA AS 'Sigla',  COUNT(q.QUESTAO) AS 'Total Questões' FROM questao AS q INNER JOIN carreira AS carr ON q.sigla = carr.SIGLA GROUP BY q.SIGLA;\"\n",
    "\n",
    "cursor.execute(comando)\n",
    "totalQuestCargo = cursor.fetchall()\n",
    "\n",
    "colunasTotalAcesso = [desc[0] for desc in cursor.description]\n",
    "totalQuestCargo = pd.DataFrame(totalQuestCargo, columns=colunasTotalAcesso)\n",
    "\n",
    "somaQuestCarr = pd.DataFrame(totalQuestCargo.groupby('Cargo')['Total Questões'].sum().reset_index()) #Soma de recurso por cargo\n",
    "\n",
    "display(totalQuestCargo)\n",
    "display(somaQuestCarr)"
   ]
  },
  {
   "cell_type": "markdown",
   "metadata": {},
   "source": [
    "## Criação dos gráficos"
   ]
  },
  {
   "cell_type": "markdown",
   "metadata": {},
   "source": [
    "#### 3- Total de Recursos por Cargo(Disciplina)"
   ]
  },
  {
   "cell_type": "code",
   "execution_count": 12,
   "metadata": {},
   "outputs": [
    {
     "data": {
      "image/png": "[encoded data removed]",
      "text/plain": [
       "<Figure size 500x500 with 1 Axes>"
      ]
     },
     "metadata": {},
     "output_type": "display_data"
    }
   ],
   "source": [
    "carreiras = somaRecCarr['Cargo'].tolist()\n",
    "total_recursos = somaRecCarr['Total Recursos'].tolist()\n",
    "\n",
    "# Função para truncar legendas\n",
    "def truncate_label(label, max_length=41):\n",
    "    if len(label) > max_length:\n",
    "        return label[:max_length] + '...'\n",
    "    else:\n",
    "        return label\n",
    "\n",
    "# Truncando as legendas\n",
    "truncated_labels = [truncate_label(label) for label in carreiras]\n",
    "\n",
    "plt.figure(figsize=(5,5))\n",
    "wedges, texts, autotexts = plt.pie(\n",
    "    total_recursos,\n",
    "    autopct='%.1f%%',\n",
    "    startangle=140,\n",
    "    colors=plt.cm.Paired.colors,\n",
    "    textprops={'fontsize': 10}\n",
    ")\n",
    "\n",
    "plt.legend(\n",
    "    labels=truncated_labels,\n",
    "    title=\"Carreira\",\n",
    "    loc=\"center left\",\n",
    "    bbox_to_anchor=(1, 0, 0.5, 1),\n",
    "     title_fontproperties={'weight': 'bold', 'size': '10'}\n",
    ")\n",
    "\n",
    "plt.title('Quantidade de Recursos por Carreira', fontsize=16, loc='center', fontweight='bold')\n",
    "plt.axis('equal')\n",
    "plt.show()"
   ]
  },
  {
   "cell_type": "markdown",
   "metadata": {},
   "source": []
  },
  {
   "cell_type": "markdown",
   "metadata": {},
   "source": [
    "### 4- Total de Acesso ao sistema"
   ]
  },
  {
   "cell_type": "code",
   "execution_count": 13,
   "metadata": {},
   "outputs": [
    {
     "data": {
      "image/png": "[encoded data removed]",
      "text/plain": [
       "<Figure size 1200x600 with 1 Axes>"
      ]
     },
     "metadata": {},
     "output_type": "display_data"
    }
   ],
   "source": [
    "# Criar o gráfico de linhas\n",
    "plt.figure(figsize=(12, 6))\n",
    "plt.plot(acessoSystem['Data'], acessoSystem['Total de Acessos'], marker='o', linestyle='-', color='b')\n",
    "\n",
    "#Formatação do gráfico\n",
    "plt.title('Acessos ao Sistema por Hora e dia', fontsize=16, fontweight='bold')\n",
    "plt.xlabel('Hora do Dia', fontsize=12)\n",
    "plt.ylabel('Número de Acessos', fontsize=12)\n",
    "plt.xticks(rotation=45)\n",
    "plt.grid(True)\n",
    "plt.tight_layout()\n",
    "\n",
    "plt.show()\n"
   ]
  },
  {
   "cell_type": "markdown",
   "metadata": {},
   "source": [
    "### 5- Total de resposta por professor"
   ]
  },
  {
   "cell_type": "code",
   "execution_count": 14,
   "metadata": {},
   "outputs": [
    {
     "data": {
      "image/png": "[encoded data removed]",
      "text/plain": [
       "<Figure size 800x400 with 1 Axes>"
      ]
     },
     "metadata": {},
     "output_type": "display_data"
    }
   ],
   "source": [
    "# Calcular o percentual de respostas por cargo\n",
    "dados_unidos = totalRespostaCargo.copy()\n",
    "dados_unidos['Percentual Respostas'] = (dados_unidos['Total Respostas'] / dados_unidos['Total Recursos']) * 100\n",
    "\n",
    "# Ordenar os dados pelo percentual de respostas\n",
    "dados_unidos = dados_unidos.sort_values(by='Percentual Respostas', ascending=True)\n",
    "\n",
    "# Função para truncar legendas\n",
    "def truncate_label(label, max_length=41):\n",
    "    if len(label) > max_length:\n",
    "        return label[:max_length] + '...'\n",
    "    else:\n",
    "        return label\n",
    "\n",
    "# Aplicar a truncagem nos nomes dos cargos\n",
    "dados_unidos['Cargo'] = dados_unidos['Cargo'].apply(lambda x: truncate_label(x, max_length=41))\n",
    "\n",
    "# Criando o gráfico de barras horizontais\n",
    "plt.figure(figsize=(8, 4))\n",
    "\n",
    "plt.barh(dados_unidos['Cargo'], dados_unidos['Percentual Respostas'], color='#6495ED', height=0.5)\n",
    "\n",
    "# Adicionando rótulos e título\n",
    "plt.xlim(0, 100)\n",
    "plt.xlabel('Percentual de Respostas Dadas (%)', fontsize=12)\n",
    "plt.title('Progresso de Respostas por Cargo', fontsize=16, fontweight='bold')\n",
    "\n",
    "# Mostrar o valor do percentual no gráfico\n",
    "for index, value in enumerate(dados_unidos['Percentual Respostas']):\n",
    "    plt.text(value / 2, index, f'{value:.2f}%', va='center', fontsize=10, color='black', ha='left')\n",
    "\n",
    "plt.tight_layout()\n",
    "plt.show()"
   ]
  },
  {
   "cell_type": "code",
   "execution_count": 15,
   "metadata": {},
   "outputs": [],
   "source": [
    "cursor.close()\n",
    "conexao.close()"
   ]
  }
 ],
 "metadata": {
  "kernelspec": {
   "display_name": "Python 3",
   "language": "python",
   "name": "python3"
  },
  "language_info": {
   "codemirror_mode": {
    "name": "ipython",
    "version": 3
   },
   "file_extension": ".py",
   "mimetype": "text/x-python",
   "name": "python",
   "nbconvert_exporter": "python",
   "pygments_lexer": "ipython3",
   "version": "3.12.2"
  }
 },
 "nbformat": 4,
 "nbformat_minor": 2
}
